{
 "cells": [
  {
   "cell_type": "markdown",
   "metadata": {},
   "source": [
    "# BONUS\n",
    "#### As you examine the data, you are overcome with a creeping suspicion that the dataset is fake. You surmise that your boss handed you spurious data in order to test the data engineering skills of a new employee. To confirm your hunch, you decide to take the following steps to generate a visualization of the data, with which you will confront your boss:"
   ]
  },
  {
   "cell_type": "code",
   "execution_count": null,
   "metadata": {},
   "outputs": [],
   "source": [
    "# Import SQL Alchemy\n",
    "from sqlalchemy import create_engine\n",
    "\n",
    "# Import and establish Base for which classes will be constructed \n",
    "from sqlalchemy.ext.declarative import declarative_base\n",
    "Base = declarative_base()\n",
    "\n",
    "# Import modules to declare columns and column data types\n",
    "from sqlalchemy import Column, Integer, String, Float"
   ]
  },
  {
   "cell_type": "code",
   "execution_count": null,
   "metadata": {},
   "outputs": [],
   "source": [
    "# Create classes\n",
    "\n",
    "class Departments (Base):\n",
    "    __tablename__ = 'departments'\n",
    "    dept_no = Column(String, primary_key = True)\n",
    "    dept_name = Column(String)\n",
    "    \n",
    "class Titles (Base):\n",
    "    title_id\n",
    "    title\n",
    "        \n",
    "class Employees(Base):\n",
    "    __tablename__ = 'employees'\n",
    "    emp_no\n",
    "    emp_title_id\n",
    "    birth_date\n",
    "    first_name\n",
    "    last_name\n",
    "    sex\n",
    "    hire_date\n",
    "    \n",
    "class Dept_emp (Base):\n",
    "    emp_no\n",
    "    dept_no\n",
    "    \n",
    "class Salaries (Base):\n",
    "    emp_no\n",
    "    salary"
   ]
  }
 ],
 "metadata": {
  "kernelspec": {
   "display_name": "Python 3",
   "language": "python",
   "name": "python3"
  },
  "language_info": {
   "codemirror_mode": {
    "name": "ipython",
    "version": 3
   },
   "file_extension": ".py",
   "mimetype": "text/x-python",
   "name": "python",
   "nbconvert_exporter": "python",
   "pygments_lexer": "ipython3",
   "version": "3.9.1"
  }
 },
 "nbformat": 4,
 "nbformat_minor": 4
}
