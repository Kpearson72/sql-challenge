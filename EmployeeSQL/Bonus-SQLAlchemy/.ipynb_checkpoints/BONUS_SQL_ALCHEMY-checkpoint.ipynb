{
 "cells": [
  {
   "cell_type": "code",
   "execution_count": 17,
   "metadata": {},
   "outputs": [],
   "source": [
    "# Import SQL Alchemy\n",
    "from sqlalchemy import create_engine\n",
    "\n",
    "# Import and establish Base for which classes will be constructed \n",
    "from sqlalchemy.ext.declarative import declarative_base\n",
    "Base = declarative_base()\n",
    "\n",
    "# Import modules to declare columns and column data types\n",
    "from sqlalchemy import Column, Integer, String, Float, Date, ForeignKey\n",
    "\n",
    "from sqlalchemy.orm import relationship, scoped_session, sessionmaker"
   ]
  },
  {
   "cell_type": "code",
   "execution_count": null,
   "metadata": {},
   "outputs": [],
   "source": []
  },
  {
   "cell_type": "code",
   "execution_count": 18,
   "metadata": {},
   "outputs": [],
   "source": [
    "# Create classes with primary keys and foreign keys\n",
    "\n",
    "class Department (Base):\n",
    "    __tablename__ = 'departments'\n",
    "    __table_args__ = {'extend_existing': True}\n",
    "    dept_no = Column(String, primary_key = True)\n",
    "    dept_name = Column(String)\n",
    "    \n",
    "class Title (Base):\n",
    "    __tablename__ = 'titles'\n",
    "    __table_args__ = {'extend_existing': True}\n",
    "    title_id = Column(String, primary_key = True)\n",
    "    title = Column(String)\n",
    "    \n",
    "class Employee(Base):\n",
    "    __tablename__ = 'employees'\n",
    "    __table_args__ = {'extend_existing': True}\n",
    "    emp_no = Column(Integer, primary_key = True)\n",
    "    emp_title_id = Column(String, ForeignKey('titles.title_id'))\n",
    "    birth_date = Column(Date)\n",
    "    first_name = Column(String)\n",
    "    last_name = Column(String)\n",
    "    sex = Column(String)\n",
    "    hire_date = Column(Date)\n",
    "    #title = relationship('Title', back_populates = 'employees')\n",
    "    title_employees = relationship('Title', foreign_keys = 'Employee.emp_title_id')\n",
    "#Title.employees = relationship('Employee', order_by = Employee.emp_title_id, back_populates = 'title')\n",
    "\n",
    "class Dept_employee (Base):\n",
    "    __tablename__ = 'dept_emp'\n",
    "    __table_args__ = {'extend_existing': True}\n",
    "    emp_no = Column(Integer, ForeignKey('employees.emp_no'),primary_key = True)\n",
    "    dept_no = Column(Integer, ForeignKey('departments.dept_no'), primary_key = True)\n",
    "    \n",
    "    emp_no_deptemp = relationship('Employee', foreign_keys='Dept_employee.emp_no')\n",
    "    dept_no_deptemp = relationship('Department', foreign_keys='Dept_employee.dept_no')\n",
    "            \n",
    "class Salary (Base):\n",
    "    __tablename__ = 'salaries'\n",
    "    __table_args__ = {'extend_existing': True}\n",
    "    emp_no = Column(Integer, ForeignKey('employees.emp_no'),primary_key = True)\n",
    "    salary = Column(Integer)\n",
    "    \n",
    "    emp_no_salary = relationship('Employee', foreign_keys='Salary.emp_no')"
   ]
  },
  {
   "cell_type": "code",
   "execution_count": 19,
   "metadata": {},
   "outputs": [
    {
     "data": {
      "text/plain": [
       "immutabledict({'departments': Table('departments', MetaData(bind=None), Column('dept_no', String(), table=<departments>, primary_key=True, nullable=False), Column('dept_name', String(), table=<departments>), schema=None), 'titles': Table('titles', MetaData(bind=None), Column('title_id', String(), table=<titles>, primary_key=True, nullable=False), Column('title', String(), table=<titles>), schema=None), 'employees': Table('employees', MetaData(bind=None), Column('emp_no', Integer(), table=<employees>, primary_key=True, nullable=False), Column('emp_title_id', String(), ForeignKey('titles.title_id'), table=<employees>), Column('birth_date', Date(), table=<employees>), Column('first_name', String(), table=<employees>), Column('last_name', String(), table=<employees>), Column('sex', String(), table=<employees>), Column('hire_date', Date(), table=<employees>), schema=None), 'dept_emp': Table('dept_emp', MetaData(bind=None), Column('emp_no', Integer(), ForeignKey('employees.emp_no'), table=<dept_emp>, primary_key=True, nullable=False), Column('dept_no', Integer(), ForeignKey('departments.dept_no'), table=<dept_emp>, primary_key=True, nullable=False), schema=None), 'salaries': Table('salaries', MetaData(bind=None), Column('emp_no', Integer(), ForeignKey('employees.emp_no'), table=<salaries>, primary_key=True, nullable=False), Column('salary', Integer(), table=<salaries>), schema=None)})"
      ]
     },
     "execution_count": 19,
     "metadata": {},
     "output_type": "execute_result"
    }
   ],
   "source": [
    "Base.metadata.tables"
   ]
  },
  {
   "cell_type": "code",
   "execution_count": null,
   "metadata": {},
   "outputs": [],
   "source": []
  }
 ],
 "metadata": {
  "kernelspec": {
   "display_name": "Python 3",
   "language": "python",
   "name": "python3"
  },
  "language_info": {
   "codemirror_mode": {
    "name": "ipython",
    "version": 3
   },
   "file_extension": ".py",
   "mimetype": "text/x-python",
   "name": "python",
   "nbconvert_exporter": "python",
   "pygments_lexer": "ipython3",
   "version": "3.9.1"
  }
 },
 "nbformat": 4,
 "nbformat_minor": 4
}
